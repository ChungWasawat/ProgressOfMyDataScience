{
 "cells": [
  {
   "cell_type": "markdown",
   "metadata": {},
   "source": [
    "# Contents  \n",
    "* [basic command](#basic-command)\n",
    "* [markdown basic](#Markdown)\n",
    "* [markdown hyperlink+image](#Markdown-2)\n",
    "* [IPython](#IPython.display)"
   ]
  },
  {
   "cell_type": "markdown",
   "metadata": {},
   "source": [
    "---"
   ]
  },
  {
   "cell_type": "markdown",
   "metadata": {},
   "source": [
    "# basic command\n",
    "'esc' to exit editing mode  \n",
    "'c' to copy cell  \n",
    "'v' to paste copied cell to below  \n",
    "'shift + v' to paste copied cell to above  \n",
    "'x' to cut cell  \n",
    "' ' to create new line  \n",
    "'dd' to delete cell  \n",
    "'ctrl + shift + -' to split words after cursor *but vscode can't  \n",
    "'shift + m' to merge that cell and cell below it *but vscode can't  \n",
    "'a' to insert above cell  \n",
    "'b' to insert below cell  \n",
    "'m' to set markdown mode  \n",
    "'y' to set command mode  \n",
    "'shift + left click' to select multiple cells *but vscode can't  \n",
    "'ctrl + enter' to run cell and stop at that cell  \n",
    "'shift + enter' to run cell and go to next below cell  \n",
    "'alt + enter' to run cell and create blank cell below that cell  \n",
    "'o' to toggle output  \n",
    "\n",
    "hold 'alt' and move mouse to line you want to select for select lines you want\n",
    "\n",
    "'%history -t' to display code that jupyter actually run from the little mistake code.\n"
   ]
  },
  {
   "cell_type": "markdown",
   "metadata": {},
   "source": [
    "# Markdown  \n",
    "'# ' to heading 1  \n",
    "'## ' to heading 2  \n",
    " .  \n",
    " .  \n",
    "'###### ' to heading 6  \n",
    "  \n",
    "* pomsky\n",
    "* cute\n",
    "    * so cute\n",
    "        * very cute\n",
    "1. coffee  \n",
    "2. matcha  \n",
    "\n",
    "The *crazy* dream.  \n",
    "May the most **stupid** pm be with you.  \n",
    "***You*** can't develop this country alone.  \n",
    "~~Fuck~~ <span style=color:red;font-size:110%>Prayut</span>"
   ]
  },
  {
   "cell_type": "markdown",
   "metadata": {},
   "source": [
    "# Markdown 2\n",
    "\n",
    "press 1 to set heading 1 : {heading 1-6} can do this\n",
    "\n",
    "## Hyperlink\n",
    "https://youtube.com  \n",
    "### [visit google](https://www.google.com)  \n",
    "![](https://i.pinimg.com/originals/c1/50/9a/c1509a675399f9a81b2722e793c55c7e.jpg \"The most beautiful girl for me\")"
   ]
  },
  {
   "cell_type": "markdown",
   "metadata": {},
   "source": [
    "---"
   ]
  },
  {
   "cell_type": "markdown",
   "metadata": {},
   "source": [
    "# IPython.display"
   ]
  },
  {
   "cell_type": "code",
   "execution_count": 47,
   "metadata": {},
   "outputs": [],
   "source": [
    "from IPython.display import IFrame, YouTubeVideo, SVG, HTML"
   ]
  },
  {
   "cell_type": "markdown",
   "metadata": {},
   "source": [
    "## Display web page"
   ]
  },
  {
   "cell_type": "code",
   "execution_count": 48,
   "metadata": {},
   "outputs": [
    {
     "data": {
      "text/html": [
       "\n",
       "        <iframe\n",
       "            width=\"800\"\n",
       "            height=\"300\"\n",
       "            src=\"https://matplotlib.org/examples/color/named_colors.html\"\n",
       "            frameborder=\"0\"\n",
       "            allowfullscreen\n",
       "        ></iframe>\n",
       "        "
      ],
      "text/plain": [
       "<IPython.lib.display.IFrame at 0x1fbe4b6d148>"
      ]
     },
     "execution_count": 48,
     "metadata": {},
     "output_type": "execute_result"
    }
   ],
   "source": [
    "IFrame(\"https://matplotlib.org/examples/color/named_colors.html\", width=800, height=300)"
   ]
  },
  {
   "cell_type": "markdown",
   "metadata": {},
   "source": [
    "### test color"
   ]
  },
  {
   "cell_type": "code",
   "execution_count": 49,
   "metadata": {},
   "outputs": [],
   "source": [
    "import pandas as pd\n",
    "import numpy as np\n",
    "%matplotlib inline\n",
    "%config InlineBackend.figure_format = 'retina'"
   ]
  },
  {
   "cell_type": "code",
   "execution_count": 50,
   "metadata": {},
   "outputs": [],
   "source": [
    "df = pd.DataFrame(np.random.rand(5,2), columns=\"X Y\".split())"
   ]
  },
  {
   "cell_type": "code",
   "execution_count": 51,
   "metadata": {},
   "outputs": [
    {
     "data": {
      "text/html": [
       "<div>\n",
       "<style scoped>\n",
       "    .dataframe tbody tr th:only-of-type {\n",
       "        vertical-align: middle;\n",
       "    }\n",
       "\n",
       "    .dataframe tbody tr th {\n",
       "        vertical-align: top;\n",
       "    }\n",
       "\n",
       "    .dataframe thead th {\n",
       "        text-align: right;\n",
       "    }\n",
       "</style>\n",
       "<table border=\"1\" class=\"dataframe\">\n",
       "  <thead>\n",
       "    <tr style=\"text-align: right;\">\n",
       "      <th></th>\n",
       "      <th>X</th>\n",
       "      <th>Y</th>\n",
       "    </tr>\n",
       "  </thead>\n",
       "  <tbody>\n",
       "    <tr>\n",
       "      <td>0</td>\n",
       "      <td>0.957096</td>\n",
       "      <td>0.382524</td>\n",
       "    </tr>\n",
       "    <tr>\n",
       "      <td>1</td>\n",
       "      <td>0.959044</td>\n",
       "      <td>0.069682</td>\n",
       "    </tr>\n",
       "    <tr>\n",
       "      <td>2</td>\n",
       "      <td>0.343501</td>\n",
       "      <td>0.401214</td>\n",
       "    </tr>\n",
       "    <tr>\n",
       "      <td>3</td>\n",
       "      <td>0.203153</td>\n",
       "      <td>0.501979</td>\n",
       "    </tr>\n",
       "    <tr>\n",
       "      <td>4</td>\n",
       "      <td>0.695143</td>\n",
       "      <td>0.790739</td>\n",
       "    </tr>\n",
       "  </tbody>\n",
       "</table>\n",
       "</div>"
      ],
      "text/plain": [
       "          X         Y\n",
       "0  0.957096  0.382524\n",
       "1  0.959044  0.069682\n",
       "2  0.343501  0.401214\n",
       "3  0.203153  0.501979\n",
       "4  0.695143  0.790739"
      ]
     },
     "execution_count": 51,
     "metadata": {},
     "output_type": "execute_result"
    }
   ],
   "source": [
    "df"
   ]
  },
  {
   "cell_type": "code",
   "execution_count": 52,
   "metadata": {
    "scrolled": true
   },
   "outputs": [
    {
     "data": {
      "text/plain": [
       "<matplotlib.axes._subplots.AxesSubplot at 0x1fbe524ea88>"
      ]
     },
     "execution_count": 52,
     "metadata": {},
     "output_type": "execute_result"
    },
    {
     "data": {
      "image/png": "[encoded data removed]",
      "text/plain": [
       "<Figure size 432x288 with 1 Axes>"
      ]
     },
     "metadata": {
      "image/png": {
       "height": 248,
       "width": 368
      },
      "needs_background": "light"
     },
     "output_type": "display_data"
    }
   ],
   "source": [
    "df.plot.barh(color='hotpink')"
   ]
  },
  {
   "cell_type": "markdown",
   "metadata": {},
   "source": [
    "## Display PDF"
   ]
  },
  {
   "cell_type": "code",
   "execution_count": 53,
   "metadata": {
    "scrolled": true
   },
   "outputs": [
    {
     "data": {
      "text/html": [
       "\n",
       "        <iframe\n",
       "            width=\"800\"\n",
       "            height=\"300\"\n",
       "            src=\"https://datacamp-community-prod.s3.amazonaws.com/f9511cf4-abb9-4f52-9663-ea93b29ee4b7\"\n",
       "            frameborder=\"0\"\n",
       "            allowfullscreen\n",
       "        ></iframe>\n",
       "        "
      ],
      "text/plain": [
       "<IPython.lib.display.IFrame at 0x1fbe50a0d88>"
      ]
     },
     "execution_count": 53,
     "metadata": {},
     "output_type": "execute_result"
    }
   ],
   "source": [
    "IFrame('https://datacamp-community-prod.s3.amazonaws.com/f9511cf4-abb9-4f52-9663-ea93b29ee4b7', width=800, height=300)"
   ]
  },
  {
   "cell_type": "markdown",
   "metadata": {},
   "source": [
    "## Embed Youtube"
   ]
  },
  {
   "cell_type": "code",
   "execution_count": 54,
   "metadata": {
    "scrolled": true
   },
   "outputs": [
    {
     "data": {
      "image/jpeg": "[encoded data removed]",
      "text/html": [
       "\n",
       "        <iframe\n",
       "            width=\"640\"\n",
       "            height=\"360\"\n",
       "            src=\"https://www.youtube.com/embed/3ymwOvzhwHs\"\n",
       "            frameborder=\"0\"\n",
       "            allowfullscreen\n",
       "        ></iframe>\n",
       "        "
      ],
      "text/plain": [
       "<IPython.lib.display.YouTubeVideo at 0x1fbe5093608>"
      ]
     },
     "execution_count": 54,
     "metadata": {},
     "output_type": "execute_result"
    }
   ],
   "source": [
    "# https://www.youtube.com/watch?v=3ymwOvzhwHs\n",
    "YouTubeVideo('3ymwOvzhwHs', 640, 360)"
   ]
  },
  {
   "cell_type": "code",
   "execution_count": 55,
   "metadata": {
    "scrolled": false
   },
   "outputs": [
    {
     "data": {
      "text/html": [
       "\n",
       "        <iframe\n",
       "            width=\"500\"\n",
       "            height=\"500\"\n",
       "            src=\"https://i.pinimg.com/736x/00/25/a5/0025a5474162cc3ff50e80d7b1cb0da0.jpg\"\n",
       "            frameborder=\"0\"\n",
       "            allowfullscreen\n",
       "        ></iframe>\n",
       "        "
      ],
      "text/plain": [
       "<IPython.lib.display.IFrame at 0x1fbe5095248>"
      ]
     },
     "execution_count": 55,
     "metadata": {},
     "output_type": "execute_result"
    }
   ],
   "source": [
    "IFrame(\"https://i.pinimg.com/736x/00/25/a5/0025a5474162cc3ff50e80d7b1cb0da0.jpg\", width=500, height=500)"
   ]
  },
  {
   "cell_type": "markdown",
   "metadata": {},
   "source": [
    "## Display HTML"
   ]
  },
  {
   "cell_type": "code",
   "execution_count": 56,
   "metadata": {},
   "outputs": [
    {
     "data": {
      "text/html": [
       "<span style=color:red;font-size:150%>Hello</span> <span style=color:blue;font-size:200%>Python</span>"
      ],
      "text/plain": [
       "<IPython.core.display.HTML object>"
      ]
     },
     "execution_count": 56,
     "metadata": {},
     "output_type": "execute_result"
    }
   ],
   "source": [
    "s='''<span style=color:red;font-size:150%>Hello</span> <span style=color:blue;font-size:200%>Python</span>'''\n",
    "HTML(s)"
   ]
  },
  {
   "cell_type": "markdown",
   "metadata": {},
   "source": [
    "<img src=https://i.pinimg.com/originals/b6/4c/5e/b64c5e5efacc5c32c28171359a061a02.jpg></img>"
   ]
  },
  {
   "cell_type": "code",
   "execution_count": 57,
   "metadata": {
    "scrolled": true
   },
   "outputs": [
    {
     "data": {
      "text/html": [
       "\n",
       "<img src=\"https://static.asiachan.com/Im.Nayeon.full.161046.jpg\" width=400 height=800></img>\n"
      ],
      "text/plain": [
       "<IPython.core.display.HTML object>"
      ]
     },
     "execution_count": 57,
     "metadata": {},
     "output_type": "execute_result"
    }
   ],
   "source": [
    "t='''\n",
    "<img src=\"https://static.asiachan.com/Im.Nayeon.full.161046.jpg\" width=400 height=800></img>\n",
    "'''\n",
    "HTML(t)"
   ]
  },
  {
   "cell_type": "markdown",
   "metadata": {},
   "source": [
    "#### go to web page and right click at part you want and click at inspect and copy outer HTML of that part. Then you paste it on your space for HTML and exercute."
   ]
  },
  {
   "cell_type": "code",
   "execution_count": 58,
   "metadata": {},
   "outputs": [
    {
     "data": {
      "text/html": [
       "\n",
       "<table class=\"table table-hover table-set col-3-center table-set-border-yellow\">\n",
       "                <thead>\n",
       "                <tr>\n",
       "                    <th></th>\n",
       "                    <th><strong>ล่าสุด</strong></th>\n",
       "                    <th><strong>เปลี่ยนแปลง</strong></th>\n",
       "                    <th><strong>มูลค่า<br>(ลบ.)</strong></th>\n",
       "                </tr>\n",
       "                </thead>\n",
       "                <tbody>\n",
       "                \n",
       "                    <tr>\n",
       "                        <td>\n",
       "                                <a class=\"blacklink-u\" href=\"https://marketdata.set.or.th/mkt/marketsummary.do?language=th&amp;country=TH\" target=\"_blank\">SET</a>\n",
       "                                 \n",
       "                        </td>                              \n",
       "                        <td style=\"text-align: right;\" class=\"set-color-red\"><i class=\"fa fa-caret-down\"></i>    \n",
       "                                1,523.93  \n",
       "                        </td>\n",
       "                        <td style=\"text-align: right;\" class=\"set-color-red\">-11.31</td>\n",
       "                        <td style=\"text-align: right;\">52,619.14</td>\n",
       "                    </tr>\n",
       "                    <tr>\n",
       "                        <td>     \n",
       "                                <a class=\"blacklink-u\" href=\"https://marketdata.set.or.th/mkt/sectorquotation.do?sector=SET50&amp;language=th&amp;country=TH\" target=\"_blank\">SET50</a>                      \n",
       "                        </td>\n",
       "\n",
       "                        <td style=\"text-align: right;\" class=\"set-color-red\"><i class=\"fa fa-caret-down\"></i>\n",
       "                            \n",
       "                                \n",
       "                                1,021.95\n",
       "                                \n",
       "                            \n",
       "                        </td>\n",
       "                        <td style=\"text-align: right;\" class=\"set-color-red\">-8.95</td>\n",
       "                        <td style=\"text-align: right;\">33,548.25</td>\n",
       "                    </tr>\n",
       "                \n",
       "                    <tr>\n",
       "                        <td>\n",
       "                   \n",
       "                                <a class=\"blacklink-u\" href=\"https://marketdata.set.or.th/mkt/sectorquotation.do?sector=SET100&amp;language=th&amp;country=TH\" target=\"_blank\">SET100</a>\n",
       "                            \n",
       "                        </td>\n",
       "          \n",
       "                        \n",
       "                        <td style=\"text-align: right;\" class=\"set-color-red\"><i class=\"fa fa-caret-down\"></i>\n",
       "                            \n",
       "                                \n",
       "                                2,238.11\n",
       "                                \n",
       "                            \n",
       "                        </td>\n",
       "                        <td style=\"text-align: right;\" class=\"set-color-red\">-19.56</td>\n",
       "                        <td style=\"text-align: right;\">39,914.07</td>\n",
       "                    </tr>\n",
       "                \n",
       "                    <tr>\n",
       "                        <td>\n",
       "                            \n",
       "                                \n",
       "                                <a class=\"blacklink-u\" href=\"https://marketdata.set.or.th/mkt/sectorquotation.do?sector=sSET&amp;language=th&amp;country=TH\" target=\"_blank\">sSET</a>\n",
       "                            \n",
       "                        </td>\n",
       "\n",
       "                        <td style=\"text-align: right;\" class=\"set-color-red\"><i class=\"fa fa-caret-down\"></i>\n",
       "                            \n",
       "                                \n",
       "                                659.82\n",
       "                                \n",
       "                            \n",
       "                        </td>\n",
       "                        <td style=\"text-align: right;\" class=\"set-color-red\">-3.56</td>\n",
       "                        <td style=\"text-align: right;\">1,494.02</td>\n",
       "                    </tr>\n",
       "                \n",
       "                    <tr>\n",
       "                        <td>\n",
       "                            \n",
       "                                \n",
       "                                <a class=\"blacklink-u\" href=\"https://marketdata.set.or.th/mkt/sectorquotation.do?sector=SETCLMV&amp;language=th&amp;country=TH\" target=\"_blank\">SETCLMV</a>\n",
       "                            \n",
       "                        </td>\n",
       "\n",
       "                        <td style=\"text-align: right;\" class=\"set-color-red\"><i class=\"fa fa-caret-down\"></i>\n",
       "                            \n",
       "                                \n",
       "                                922.67\n",
       "                                \n",
       "                            \n",
       "                        </td>\n",
       "                        <td style=\"text-align: right;\" class=\"set-color-red\">-5.35</td>\n",
       "                        <td style=\"text-align: right;\">12,149.36</td>\n",
       "                    </tr>\n",
       "                \n",
       "                    <tr>\n",
       "                        <td>\n",
       "                            \n",
       "                                \n",
       "                                <a class=\"blacklink-u\" href=\"https://marketdata.set.or.th/mkt/sectorquotation.do?sector=SETHD&amp;language=th&amp;country=TH\" target=\"_blank\">SETHD</a>\n",
       "                            \n",
       "                        </td>\n",
       " \n",
       "                        <td style=\"text-align: right;\" class=\"set-color-red\"><i class=\"fa fa-caret-down\"></i>\n",
       "                            \n",
       "                                \n",
       "                                1,074.81\n",
       "                                \n",
       "                            \n",
       "                        </td>\n",
       "                        <td style=\"text-align: right;\" class=\"set-color-red\">-11.20</td>\n",
       "                        <td style=\"text-align: right;\">17,445.23</td>\n",
       "                    </tr>\n",
       "                \n",
       "                    <tr>\n",
       "                        <td>\n",
       "                            \n",
       "                                \n",
       "                                <a class=\"blacklink-u\" href=\"https://marketdata.set.or.th/mkt/sectorquotation.do?sector=SETTHSI&amp;language=th&amp;country=TH\" target=\"_blank\">SETTHSI</a>\n",
       "                            \n",
       "                        </td>\n",
       "\n",
       "                        <td style=\"text-align: right;\" class=\"set-color-red\"><i class=\"fa fa-caret-down\"></i>\n",
       "                            \n",
       "                                \n",
       "                                936.30\n",
       "                                \n",
       "                            \n",
       "                        </td>\n",
       "                        <td style=\"text-align: right;\" class=\"set-color-red\">-8.11</td>\n",
       "                        <td style=\"text-align: right;\">32,019.75</td>\n",
       "                    </tr>\n",
       "                \n",
       "                    <tr>\n",
       "                        <td>\n",
       "                            \n",
       "                                \n",
       "                                <a class=\"blacklink-u\" href=\"https://marketdata.set.or.th/mkt/sectorquotation.do?sector=SETWB&amp;language=th&amp;country=TH\" target=\"_blank\">SETWB</a>\n",
       "                            \n",
       "                        </td>\n",
       "                            \n",
       "                            \n",
       "                        \n",
       "                        <td style=\"text-align: right;\" class=\"set-color-red\"><i class=\"fa fa-caret-down\"></i>\n",
       "                            \n",
       "                                \n",
       "                                955.58\n",
       "                                \n",
       "                            \n",
       "                        </td>\n",
       "                        <td style=\"text-align: right;\" class=\"set-color-red\">-10.74</td>\n",
       "                        <td style=\"text-align: right;\">8,996.55</td>\n",
       "                    </tr>\n",
       "                \n",
       "                </tbody>\n",
       "            </table>\n"
      ],
      "text/plain": [
       "<IPython.core.display.HTML object>"
      ]
     },
     "execution_count": 58,
     "metadata": {},
     "output_type": "execute_result"
    }
   ],
   "source": [
    "u='''\n",
    "<table class=\"table table-hover table-set col-3-center table-set-border-yellow\">\n",
    "                <thead>\n",
    "                <tr>\n",
    "                    <th></th>\n",
    "                    <th><strong>ล่าสุด</strong></th>\n",
    "                    <th><strong>เปลี่ยนแปลง</strong></th>\n",
    "                    <th><strong>มูลค่า<br>(ลบ.)</strong></th>\n",
    "                </tr>\n",
    "                </thead>\n",
    "                <tbody>\n",
    "                \n",
    "                    <tr>\n",
    "                        <td>\n",
    "                                <a class=\"blacklink-u\" href=\"https://marketdata.set.or.th/mkt/marketsummary.do?language=th&amp;country=TH\" target=\"_blank\">SET</a>\n",
    "                                 \n",
    "                        </td>                              \n",
    "                        <td style=\"text-align: right;\" class=\"set-color-red\"><i class=\"fa fa-caret-down\"></i>    \n",
    "                                1,523.93  \n",
    "                        </td>\n",
    "                        <td style=\"text-align: right;\" class=\"set-color-red\">-11.31</td>\n",
    "                        <td style=\"text-align: right;\">52,619.14</td>\n",
    "                    </tr>\n",
    "                    <tr>\n",
    "                        <td>     \n",
    "                                <a class=\"blacklink-u\" href=\"https://marketdata.set.or.th/mkt/sectorquotation.do?sector=SET50&amp;language=th&amp;country=TH\" target=\"_blank\">SET50</a>                      \n",
    "                        </td>\n",
    "\n",
    "                        <td style=\"text-align: right;\" class=\"set-color-red\"><i class=\"fa fa-caret-down\"></i>\n",
    "                            \n",
    "                                \n",
    "                                1,021.95\n",
    "                                \n",
    "                            \n",
    "                        </td>\n",
    "                        <td style=\"text-align: right;\" class=\"set-color-red\">-8.95</td>\n",
    "                        <td style=\"text-align: right;\">33,548.25</td>\n",
    "                    </tr>\n",
    "                \n",
    "                    <tr>\n",
    "                        <td>\n",
    "                   \n",
    "                                <a class=\"blacklink-u\" href=\"https://marketdata.set.or.th/mkt/sectorquotation.do?sector=SET100&amp;language=th&amp;country=TH\" target=\"_blank\">SET100</a>\n",
    "                            \n",
    "                        </td>\n",
    "          \n",
    "                        \n",
    "                        <td style=\"text-align: right;\" class=\"set-color-red\"><i class=\"fa fa-caret-down\"></i>\n",
    "                            \n",
    "                                \n",
    "                                2,238.11\n",
    "                                \n",
    "                            \n",
    "                        </td>\n",
    "                        <td style=\"text-align: right;\" class=\"set-color-red\">-19.56</td>\n",
    "                        <td style=\"text-align: right;\">39,914.07</td>\n",
    "                    </tr>\n",
    "                \n",
    "                    <tr>\n",
    "                        <td>\n",
    "                            \n",
    "                                \n",
    "                                <a class=\"blacklink-u\" href=\"https://marketdata.set.or.th/mkt/sectorquotation.do?sector=sSET&amp;language=th&amp;country=TH\" target=\"_blank\">sSET</a>\n",
    "                            \n",
    "                        </td>\n",
    "\n",
    "                        <td style=\"text-align: right;\" class=\"set-color-red\"><i class=\"fa fa-caret-down\"></i>\n",
    "                            \n",
    "                                \n",
    "                                659.82\n",
    "                                \n",
    "                            \n",
    "                        </td>\n",
    "                        <td style=\"text-align: right;\" class=\"set-color-red\">-3.56</td>\n",
    "                        <td style=\"text-align: right;\">1,494.02</td>\n",
    "                    </tr>\n",
    "                \n",
    "                    <tr>\n",
    "                        <td>\n",
    "                            \n",
    "                                \n",
    "                                <a class=\"blacklink-u\" href=\"https://marketdata.set.or.th/mkt/sectorquotation.do?sector=SETCLMV&amp;language=th&amp;country=TH\" target=\"_blank\">SETCLMV</a>\n",
    "                            \n",
    "                        </td>\n",
    "\n",
    "                        <td style=\"text-align: right;\" class=\"set-color-red\"><i class=\"fa fa-caret-down\"></i>\n",
    "                            \n",
    "                                \n",
    "                                922.67\n",
    "                                \n",
    "                            \n",
    "                        </td>\n",
    "                        <td style=\"text-align: right;\" class=\"set-color-red\">-5.35</td>\n",
    "                        <td style=\"text-align: right;\">12,149.36</td>\n",
    "                    </tr>\n",
    "                \n",
    "                    <tr>\n",
    "                        <td>\n",
    "                            \n",
    "                                \n",
    "                                <a class=\"blacklink-u\" href=\"https://marketdata.set.or.th/mkt/sectorquotation.do?sector=SETHD&amp;language=th&amp;country=TH\" target=\"_blank\">SETHD</a>\n",
    "                            \n",
    "                        </td>\n",
    " \n",
    "                        <td style=\"text-align: right;\" class=\"set-color-red\"><i class=\"fa fa-caret-down\"></i>\n",
    "                            \n",
    "                                \n",
    "                                1,074.81\n",
    "                                \n",
    "                            \n",
    "                        </td>\n",
    "                        <td style=\"text-align: right;\" class=\"set-color-red\">-11.20</td>\n",
    "                        <td style=\"text-align: right;\">17,445.23</td>\n",
    "                    </tr>\n",
    "                \n",
    "                    <tr>\n",
    "                        <td>\n",
    "                            \n",
    "                                \n",
    "                                <a class=\"blacklink-u\" href=\"https://marketdata.set.or.th/mkt/sectorquotation.do?sector=SETTHSI&amp;language=th&amp;country=TH\" target=\"_blank\">SETTHSI</a>\n",
    "                            \n",
    "                        </td>\n",
    "\n",
    "                        <td style=\"text-align: right;\" class=\"set-color-red\"><i class=\"fa fa-caret-down\"></i>\n",
    "                            \n",
    "                                \n",
    "                                936.30\n",
    "                                \n",
    "                            \n",
    "                        </td>\n",
    "                        <td style=\"text-align: right;\" class=\"set-color-red\">-8.11</td>\n",
    "                        <td style=\"text-align: right;\">32,019.75</td>\n",
    "                    </tr>\n",
    "                \n",
    "                    <tr>\n",
    "                        <td>\n",
    "                            \n",
    "                                \n",
    "                                <a class=\"blacklink-u\" href=\"https://marketdata.set.or.th/mkt/sectorquotation.do?sector=SETWB&amp;language=th&amp;country=TH\" target=\"_blank\">SETWB</a>\n",
    "                            \n",
    "                        </td>\n",
    "                            \n",
    "                            \n",
    "                        \n",
    "                        <td style=\"text-align: right;\" class=\"set-color-red\"><i class=\"fa fa-caret-down\"></i>\n",
    "                            \n",
    "                                \n",
    "                                955.58\n",
    "                                \n",
    "                            \n",
    "                        </td>\n",
    "                        <td style=\"text-align: right;\" class=\"set-color-red\">-10.74</td>\n",
    "                        <td style=\"text-align: right;\">8,996.55</td>\n",
    "                    </tr>\n",
    "                \n",
    "                </tbody>\n",
    "            </table>\n",
    "'''\n",
    "HTML(u)"
   ]
  }
 ],
 "metadata": {
  "file_extension": ".py",
  "kernelspec": {
   "display_name": "Python 3",
   "language": "python",
   "name": "python3"
  },
  "language_info": {
   "codemirror_mode": {
    "name": "ipython",
    "version": 3
   },
   "file_extension": ".py",
   "mimetype": "text/x-python",
   "name": "python",
   "nbconvert_exporter": "python",
   "pygments_lexer": "ipython3",
   "version": "3.7.4"
  },
  "mimetype": "text/x-python",
  "name": "python",
  "npconvert_exporter": "python",
  "pygments_lexer": "ipython3",
  "version": 3
 },
 "nbformat": 4,
 "nbformat_minor": 2
}
