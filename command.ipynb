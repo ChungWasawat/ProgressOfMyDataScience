{
 "cells": [
  {
   "cell_type": "markdown",
   "metadata": {},
   "source": [
    "# Contents  \n",
    "* [basic command](#basic-command)\n",
    "* [markdown basic](#Markdown)\n",
    "* [markdown hyperlink+image](#Markdown-2)"
   ]
  },
  {
   "cell_type": "markdown",
   "metadata": {},
   "source": [
    "---"
   ]
  },
  {
   "cell_type": "markdown",
   "metadata": {},
   "source": [
    "# basic command\n",
    "'esc' to exit editing mode  \n",
    "'c' to copy cell  \n",
    "'v' to paste copied cell to below  \n",
    "'shift + v' to paste copied cell to above  \n",
    "'x' to cut cell  \n",
    "' ' to create new line  \n",
    "'dd' to delete cell  \n",
    "'ctrl + shift + -' to split words after cursor *but vscode can't  \n",
    "'shift + m' to merge that cell and cell below it *but vscode can't  \n",
    "'a' to insert above cell  \n",
    "'b' to insert below cell  \n",
    "'m' to set markdown mode  \n",
    "'y' to set command mode  \n",
    "'shift + left click' to select multiple cells *but vscode can't  \n",
    "'ctrl + enter' to run cell and stop at that cell  \n",
    "'shift + enter' to run cell and go to next below cell  \n",
    "'alt + enter' to run cell and create blank cell below that cell  \n",
    "'o' to toggle output  \n",
    "\n",
    "hold 'alt' and move mouse to line you want to select for select lines you want"
   ]
  },
  {
   "cell_type": "markdown",
   "metadata": {},
   "source": [
    "# Markdown  \n",
    "'# ' to heading 1  \n",
    "'## ' to heading 2  \n",
    " .  \n",
    " .  \n",
    "'###### ' to heading 6  \n",
    "  \n",
    "* pomsky\n",
    "* cute\n",
    "    * so cute\n",
    "        * very cute\n",
    "1. coffee  \n",
    "2. matcha  \n",
    "\n",
    "The *crazy* dream.  \n",
    "May the most **stupid** pm be with you.  \n",
    "***You*** can't develop this country alone.  \n",
    "~~Fuck~~ <span style=color:red;font-size:110%>Prayut</span>"
   ]
  },
  {
   "cell_type": "markdown",
   "metadata": {},
   "source": [
    "# Markdown 2\n",
    "\n",
    "press 1 to set heading 1 : {heading 1-6} can do this\n",
    "\n",
    "## Hyperlink\n",
    "https://youtube.com  \n",
    "### [visit google](https://www.google.com)  \n",
    "![](https://i.pinimg.com/originals/c1/50/9a/c1509a675399f9a81b2722e793c55c7e.jpg \"The most beautiful girl for me\")"
   ]
  }
 ],
 "metadata": {
  "file_extension": ".py",
  "kernelspec": {
   "display_name": "Python 3",
   "language": "python",
   "name": "python3"
  },
  "language_info": {
   "codemirror_mode": {
    "name": "ipython",
    "version": 3
   },
   "file_extension": ".py",
   "mimetype": "text/x-python",
   "name": "python",
   "nbconvert_exporter": "python",
   "pygments_lexer": "ipython3",
   "version": "3.7.4"
  },
  "mimetype": "text/x-python",
  "name": "python",
  "npconvert_exporter": "python",
  "pygments_lexer": "ipython3",
  "version": 3
 },
 "nbformat": 4,
 "nbformat_minor": 2
}
